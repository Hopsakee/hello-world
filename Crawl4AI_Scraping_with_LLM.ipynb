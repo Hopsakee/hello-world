{
  "nbformat": 4,
  "nbformat_minor": 0,
  "metadata": {
    "colab": {
      "provenance": [],
      "include_colab_link": true
    },
    "kernelspec": {
      "name": "python3",
      "display_name": "Python 3"
    },
    "language_info": {
      "name": "python"
    }
  },
  "cells": [
    {
      "cell_type": "markdown",
      "metadata": {
        "id": "view-in-github",
        "colab_type": "text"
      },
      "source": [
        "<a href=\"https://colab.research.google.com/github/Hopsakee/hello-world/blob/master/Crawl4AI_Scraping_with_LLM.ipynb\" target=\"_parent\"><img src=\"https://colab.research.google.com/assets/colab-badge.svg\" alt=\"Open In Colab\"/></a>"
      ]
    },
    {
      "cell_type": "markdown",
      "source": [
        "# Crawl4AI: Advanced Web Crawling and Data Extraction\n",
        "\n",
        "- GitHub Repository: [https://github.com/unclecode/crawl4ai](https://github.com/unclecode/crawl4ai)"
      ],
      "metadata": {
        "id": "ImIfwj8C6Cj9"
      }
    },
    {
      "cell_type": "code",
      "execution_count": 1,
      "metadata": {
        "colab": {
          "base_uri": "https://localhost:8080/"
        },
        "id": "Q7haH64e5_0r",
        "outputId": "68e985a4-fa77-43c0-a697-6355ecf1f729"
      },
      "outputs": [
        {
          "output_type": "stream",
          "name": "stdout",
          "text": [
            "\r0% [Working]\r            \rGet:1 https://cloud.r-project.org/bin/linux/ubuntu jammy-cran40/ InRelease [3,626 B]\n",
            "Get:2 https://developer.download.nvidia.com/compute/cuda/repos/ubuntu2204/x86_64  InRelease [1,581 B]\n",
            "Get:3 http://security.ubuntu.com/ubuntu jammy-security InRelease [129 kB]\n",
            "Get:4 https://developer.download.nvidia.com/compute/cuda/repos/ubuntu2204/x86_64  Packages [1,105 kB]\n",
            "Hit:5 http://archive.ubuntu.com/ubuntu jammy InRelease\n",
            "Ign:6 https://r2u.stat.illinois.edu/ubuntu jammy InRelease\n",
            "Get:7 http://archive.ubuntu.com/ubuntu jammy-updates InRelease [128 kB]\n",
            "Get:8 https://r2u.stat.illinois.edu/ubuntu jammy Release [5,713 B]\n",
            "Hit:9 https://ppa.launchpadcontent.net/deadsnakes/ppa/ubuntu jammy InRelease\n",
            "Get:10 https://r2u.stat.illinois.edu/ubuntu jammy Release.gpg [793 B]\n",
            "Hit:11 https://ppa.launchpadcontent.net/graphics-drivers/ppa/ubuntu jammy InRelease\n",
            "Hit:12 https://ppa.launchpadcontent.net/ubuntugis/ppa/ubuntu jammy InRelease\n",
            "Get:13 http://archive.ubuntu.com/ubuntu jammy-backports InRelease [127 kB]\n",
            "Get:14 https://r2u.stat.illinois.edu/ubuntu jammy/main amd64 Packages [2,606 kB]\n",
            "Get:15 http://archive.ubuntu.com/ubuntu jammy-updates/main amd64 Packages [2,665 kB]\n",
            "Get:16 https://r2u.stat.illinois.edu/ubuntu jammy/main all Packages [8,436 kB]\n",
            "Fetched 15.2 MB in 7s (2,113 kB/s)\n",
            "Reading package lists... Done\n",
            "W: Skipping acquire of configured file 'main/source/Sources' as repository 'https://r2u.stat.illinois.edu/ubuntu jammy InRelease' does not seem to provide it (sources.list entry misspelt?)\n",
            "Reading package lists... Done\n",
            "Building dependency tree... Done\n",
            "Reading state information... Done\n",
            "E: Unable to locate package libwebp6\n",
            "E: Unable to locate package libenchant1c2a\n",
            "E: Unable to locate package libvpx6\n"
          ]
        }
      ],
      "source": [
        "!sudo apt-get update && sudo apt-get install -y libwoff1 libopus0 libwebp6 libwebpdemux2 libenchant1c2a libgudev-1.0-0 libsecret-1-0 libhyphen0 libgdk-pixbuf2.0-0 libegl1 libnotify4 libxslt1.1 libevent-2.1-7 libgles2 libvpx6 libxcomposite1 libatk1.0-0 libatk-bridge2.0-0 libepoxy0 libgtk-3-0 libharfbuzz-icu0"
      ]
    },
    {
      "cell_type": "code",
      "source": [
        "# !pip install \"crawl4ai @ git+https://github.com/unclecode/crawl4ai.git\"\n",
        "# !pip install \"crawl4ai @ git+https://github.com/unclecode/crawl4ai.git@staging\"\n",
        "!pip install crawl4ai\n",
        "!pip install nest-asyncio\n",
        "!playwright install"
      ],
      "metadata": {
        "colab": {
          "base_uri": "https://localhost:8080/"
        },
        "id": "BdAuCMm96HPK",
        "outputId": "04cd4cd4-c449-4577-ea4b-aefe5ee05700"
      },
      "execution_count": 2,
      "outputs": [
        {
          "output_type": "stream",
          "name": "stdout",
          "text": [
            "Collecting crawl4ai\n",
            "  Downloading Crawl4AI-0.3.72-py3-none-any.whl.metadata (17 kB)\n",
            "Collecting aiosqlite==0.20.0 (from crawl4ai)\n",
            "  Downloading aiosqlite-0.20.0-py3-none-any.whl.metadata (4.3 kB)\n",
            "Collecting html2text==2024.2.26 (from crawl4ai)\n",
            "  Downloading html2text-2024.2.26.tar.gz (56 kB)\n",
            "\u001b[2K     \u001b[90m━━━━━━━━━━━━━━━━━━━━━━━━━━━━━━━━━━━━━━━━\u001b[0m \u001b[32m56.5/56.5 kB\u001b[0m \u001b[31m1.9 MB/s\u001b[0m eta \u001b[36m0:00:00\u001b[0m\n",
            "\u001b[?25h  Preparing metadata (setup.py) ... \u001b[?25l\u001b[?25hdone\n",
            "Requirement already satisfied: lxml==5.3.0 in /usr/local/lib/python3.10/dist-packages (from crawl4ai) (5.3.0)\n",
            "Collecting litellm==1.48.0 (from crawl4ai)\n",
            "  Downloading litellm-1.48.0-py3-none-any.whl.metadata (32 kB)\n",
            "Requirement already satisfied: numpy<2.1.1,>=1.26.0 in /usr/local/lib/python3.10/dist-packages (from crawl4ai) (1.26.4)\n",
            "Requirement already satisfied: pillow==10.4.0 in /usr/local/lib/python3.10/dist-packages (from crawl4ai) (10.4.0)\n",
            "Collecting playwright==1.47.0 (from crawl4ai)\n",
            "  Downloading playwright-1.47.0-py3-none-manylinux1_x86_64.whl.metadata (3.5 kB)\n",
            "Collecting python-dotenv==1.0.1 (from crawl4ai)\n",
            "  Downloading python_dotenv-1.0.1-py3-none-any.whl.metadata (23 kB)\n",
            "Collecting requests<2.32.3,>=2.26.0 (from crawl4ai)\n",
            "  Downloading requests-2.32.2-py3-none-any.whl.metadata (4.6 kB)\n",
            "Requirement already satisfied: beautifulsoup4==4.12.3 in /usr/local/lib/python3.10/dist-packages (from crawl4ai) (4.12.3)\n",
            "Collecting playwright-stealth==1.0.6 (from crawl4ai)\n",
            "  Downloading playwright_stealth-1.0.6-py3-none-any.whl.metadata (2.2 kB)\n",
            "Requirement already satisfied: typing_extensions>=4.0 in /usr/local/lib/python3.10/dist-packages (from aiosqlite==0.20.0->crawl4ai) (4.12.2)\n",
            "Requirement already satisfied: soupsieve>1.2 in /usr/local/lib/python3.10/dist-packages (from beautifulsoup4==4.12.3->crawl4ai) (2.6)\n",
            "Requirement already satisfied: aiohttp in /usr/local/lib/python3.10/dist-packages (from litellm==1.48.0->crawl4ai) (3.10.10)\n",
            "Requirement already satisfied: click in /usr/local/lib/python3.10/dist-packages (from litellm==1.48.0->crawl4ai) (8.1.7)\n",
            "Requirement already satisfied: importlib-metadata>=6.8.0 in /usr/local/lib/python3.10/dist-packages (from litellm==1.48.0->crawl4ai) (8.5.0)\n",
            "Requirement already satisfied: jinja2<4.0.0,>=3.1.2 in /usr/local/lib/python3.10/dist-packages (from litellm==1.48.0->crawl4ai) (3.1.4)\n",
            "Requirement already satisfied: jsonschema<5.0.0,>=4.22.0 in /usr/local/lib/python3.10/dist-packages (from litellm==1.48.0->crawl4ai) (4.23.0)\n",
            "Requirement already satisfied: openai>=1.45.0 in /usr/local/lib/python3.10/dist-packages (from litellm==1.48.0->crawl4ai) (1.52.2)\n",
            "Requirement already satisfied: pydantic<3.0.0,>=2.0.0 in /usr/local/lib/python3.10/dist-packages (from litellm==1.48.0->crawl4ai) (2.9.2)\n",
            "Collecting tiktoken>=0.7.0 (from litellm==1.48.0->crawl4ai)\n",
            "  Downloading tiktoken-0.8.0-cp310-cp310-manylinux_2_17_x86_64.manylinux2014_x86_64.whl.metadata (6.6 kB)\n",
            "Requirement already satisfied: tokenizers in /usr/local/lib/python3.10/dist-packages (from litellm==1.48.0->crawl4ai) (0.19.1)\n",
            "Collecting greenlet==3.0.3 (from playwright==1.47.0->crawl4ai)\n",
            "  Downloading greenlet-3.0.3-cp310-cp310-manylinux_2_24_x86_64.manylinux_2_28_x86_64.whl.metadata (3.8 kB)\n",
            "Collecting pyee==12.0.0 (from playwright==1.47.0->crawl4ai)\n",
            "  Downloading pyee-12.0.0-py3-none-any.whl.metadata (2.8 kB)\n",
            "Requirement already satisfied: charset-normalizer<4,>=2 in /usr/local/lib/python3.10/dist-packages (from requests<2.32.3,>=2.26.0->crawl4ai) (3.4.0)\n",
            "Requirement already satisfied: idna<4,>=2.5 in /usr/local/lib/python3.10/dist-packages (from requests<2.32.3,>=2.26.0->crawl4ai) (3.10)\n",
            "Requirement already satisfied: urllib3<3,>=1.21.1 in /usr/local/lib/python3.10/dist-packages (from requests<2.32.3,>=2.26.0->crawl4ai) (2.2.3)\n",
            "Requirement already satisfied: certifi>=2017.4.17 in /usr/local/lib/python3.10/dist-packages (from requests<2.32.3,>=2.26.0->crawl4ai) (2024.8.30)\n",
            "Requirement already satisfied: zipp>=3.20 in /usr/local/lib/python3.10/dist-packages (from importlib-metadata>=6.8.0->litellm==1.48.0->crawl4ai) (3.20.2)\n",
            "Requirement already satisfied: MarkupSafe>=2.0 in /usr/local/lib/python3.10/dist-packages (from jinja2<4.0.0,>=3.1.2->litellm==1.48.0->crawl4ai) (3.0.2)\n",
            "Requirement already satisfied: attrs>=22.2.0 in /usr/local/lib/python3.10/dist-packages (from jsonschema<5.0.0,>=4.22.0->litellm==1.48.0->crawl4ai) (24.2.0)\n",
            "Requirement already satisfied: jsonschema-specifications>=2023.03.6 in /usr/local/lib/python3.10/dist-packages (from jsonschema<5.0.0,>=4.22.0->litellm==1.48.0->crawl4ai) (2024.10.1)\n",
            "Requirement already satisfied: referencing>=0.28.4 in /usr/local/lib/python3.10/dist-packages (from jsonschema<5.0.0,>=4.22.0->litellm==1.48.0->crawl4ai) (0.35.1)\n",
            "Requirement already satisfied: rpds-py>=0.7.1 in /usr/local/lib/python3.10/dist-packages (from jsonschema<5.0.0,>=4.22.0->litellm==1.48.0->crawl4ai) (0.20.0)\n",
            "Requirement already satisfied: anyio<5,>=3.5.0 in /usr/local/lib/python3.10/dist-packages (from openai>=1.45.0->litellm==1.48.0->crawl4ai) (3.7.1)\n",
            "Requirement already satisfied: distro<2,>=1.7.0 in /usr/local/lib/python3.10/dist-packages (from openai>=1.45.0->litellm==1.48.0->crawl4ai) (1.9.0)\n",
            "Requirement already satisfied: httpx<1,>=0.23.0 in /usr/local/lib/python3.10/dist-packages (from openai>=1.45.0->litellm==1.48.0->crawl4ai) (0.27.2)\n",
            "Requirement already satisfied: jiter<1,>=0.4.0 in /usr/local/lib/python3.10/dist-packages (from openai>=1.45.0->litellm==1.48.0->crawl4ai) (0.6.1)\n",
            "Requirement already satisfied: sniffio in /usr/local/lib/python3.10/dist-packages (from openai>=1.45.0->litellm==1.48.0->crawl4ai) (1.3.1)\n",
            "Requirement already satisfied: tqdm>4 in /usr/local/lib/python3.10/dist-packages (from openai>=1.45.0->litellm==1.48.0->crawl4ai) (4.66.6)\n",
            "Requirement already satisfied: annotated-types>=0.6.0 in /usr/local/lib/python3.10/dist-packages (from pydantic<3.0.0,>=2.0.0->litellm==1.48.0->crawl4ai) (0.7.0)\n",
            "Requirement already satisfied: pydantic-core==2.23.4 in /usr/local/lib/python3.10/dist-packages (from pydantic<3.0.0,>=2.0.0->litellm==1.48.0->crawl4ai) (2.23.4)\n",
            "Requirement already satisfied: regex>=2022.1.18 in /usr/local/lib/python3.10/dist-packages (from tiktoken>=0.7.0->litellm==1.48.0->crawl4ai) (2024.9.11)\n",
            "Requirement already satisfied: aiohappyeyeballs>=2.3.0 in /usr/local/lib/python3.10/dist-packages (from aiohttp->litellm==1.48.0->crawl4ai) (2.4.3)\n",
            "Requirement already satisfied: aiosignal>=1.1.2 in /usr/local/lib/python3.10/dist-packages (from aiohttp->litellm==1.48.0->crawl4ai) (1.3.1)\n",
            "Requirement already satisfied: frozenlist>=1.1.1 in /usr/local/lib/python3.10/dist-packages (from aiohttp->litellm==1.48.0->crawl4ai) (1.5.0)\n",
            "Requirement already satisfied: multidict<7.0,>=4.5 in /usr/local/lib/python3.10/dist-packages (from aiohttp->litellm==1.48.0->crawl4ai) (6.1.0)\n",
            "Requirement already satisfied: yarl<2.0,>=1.12.0 in /usr/local/lib/python3.10/dist-packages (from aiohttp->litellm==1.48.0->crawl4ai) (1.17.0)\n",
            "Requirement already satisfied: async-timeout<5.0,>=4.0 in /usr/local/lib/python3.10/dist-packages (from aiohttp->litellm==1.48.0->crawl4ai) (4.0.3)\n",
            "Requirement already satisfied: huggingface-hub<1.0,>=0.16.4 in /usr/local/lib/python3.10/dist-packages (from tokenizers->litellm==1.48.0->crawl4ai) (0.24.7)\n",
            "Requirement already satisfied: exceptiongroup in /usr/local/lib/python3.10/dist-packages (from anyio<5,>=3.5.0->openai>=1.45.0->litellm==1.48.0->crawl4ai) (1.2.2)\n",
            "Requirement already satisfied: httpcore==1.* in /usr/local/lib/python3.10/dist-packages (from httpx<1,>=0.23.0->openai>=1.45.0->litellm==1.48.0->crawl4ai) (1.0.6)\n",
            "Requirement already satisfied: h11<0.15,>=0.13 in /usr/local/lib/python3.10/dist-packages (from httpcore==1.*->httpx<1,>=0.23.0->openai>=1.45.0->litellm==1.48.0->crawl4ai) (0.14.0)\n",
            "Requirement already satisfied: filelock in /usr/local/lib/python3.10/dist-packages (from huggingface-hub<1.0,>=0.16.4->tokenizers->litellm==1.48.0->crawl4ai) (3.16.1)\n",
            "Requirement already satisfied: fsspec>=2023.5.0 in /usr/local/lib/python3.10/dist-packages (from huggingface-hub<1.0,>=0.16.4->tokenizers->litellm==1.48.0->crawl4ai) (2024.10.0)\n",
            "Requirement already satisfied: packaging>=20.9 in /usr/local/lib/python3.10/dist-packages (from huggingface-hub<1.0,>=0.16.4->tokenizers->litellm==1.48.0->crawl4ai) (24.1)\n",
            "Requirement already satisfied: pyyaml>=5.1 in /usr/local/lib/python3.10/dist-packages (from huggingface-hub<1.0,>=0.16.4->tokenizers->litellm==1.48.0->crawl4ai) (6.0.2)\n",
            "Requirement already satisfied: propcache>=0.2.0 in /usr/local/lib/python3.10/dist-packages (from yarl<2.0,>=1.12.0->aiohttp->litellm==1.48.0->crawl4ai) (0.2.0)\n",
            "Downloading Crawl4AI-0.3.72-py3-none-any.whl (94 kB)\n",
            "\u001b[2K   \u001b[90m━━━━━━━━━━━━━━━━━━━━━━━━━━━━━━━━━━━━━━━━\u001b[0m \u001b[32m94.1/94.1 kB\u001b[0m \u001b[31m3.9 MB/s\u001b[0m eta \u001b[36m0:00:00\u001b[0m\n",
            "\u001b[?25hDownloading aiosqlite-0.20.0-py3-none-any.whl (15 kB)\n",
            "Downloading litellm-1.48.0-py3-none-any.whl (8.7 MB)\n",
            "\u001b[2K   \u001b[90m━━━━━━━━━━━━━━━━━━━━━━━━━━━━━━━━━━━━━━━━\u001b[0m \u001b[32m8.7/8.7 MB\u001b[0m \u001b[31m61.7 MB/s\u001b[0m eta \u001b[36m0:00:00\u001b[0m\n",
            "\u001b[?25hDownloading playwright-1.47.0-py3-none-manylinux1_x86_64.whl (38.1 MB)\n",
            "\u001b[2K   \u001b[90m━━━━━━━━━━━━━━━━━━━━━━━━━━━━━━━━━━━━━━━━\u001b[0m \u001b[32m38.1/38.1 MB\u001b[0m \u001b[31m6.0 MB/s\u001b[0m eta \u001b[36m0:00:00\u001b[0m\n",
            "\u001b[?25hDownloading playwright_stealth-1.0.6-py3-none-any.whl (28 kB)\n",
            "Downloading python_dotenv-1.0.1-py3-none-any.whl (19 kB)\n",
            "Downloading greenlet-3.0.3-cp310-cp310-manylinux_2_24_x86_64.manylinux_2_28_x86_64.whl (616 kB)\n",
            "\u001b[2K   \u001b[90m━━━━━━━━━━━━━━━━━━━━━━━━━━━━━━━━━━━━━━━━\u001b[0m \u001b[32m616.0/616.0 kB\u001b[0m \u001b[31m31.3 MB/s\u001b[0m eta \u001b[36m0:00:00\u001b[0m\n",
            "\u001b[?25hDownloading pyee-12.0.0-py3-none-any.whl (14 kB)\n",
            "Downloading requests-2.32.2-py3-none-any.whl (63 kB)\n",
            "\u001b[2K   \u001b[90m━━━━━━━━━━━━━━━━━━━━━━━━━━━━━━━━━━━━━━━━\u001b[0m \u001b[32m63.9/63.9 kB\u001b[0m \u001b[31m4.5 MB/s\u001b[0m eta \u001b[36m0:00:00\u001b[0m\n",
            "\u001b[?25hDownloading tiktoken-0.8.0-cp310-cp310-manylinux_2_17_x86_64.manylinux2014_x86_64.whl (1.2 MB)\n",
            "\u001b[2K   \u001b[90m━━━━━━━━━━━━━━━━━━━━━━━━━━━━━━━━━━━━━━━━\u001b[0m \u001b[32m1.2/1.2 MB\u001b[0m \u001b[31m47.1 MB/s\u001b[0m eta \u001b[36m0:00:00\u001b[0m\n",
            "\u001b[?25hBuilding wheels for collected packages: html2text\n",
            "  Building wheel for html2text (setup.py) ... \u001b[?25l\u001b[?25hdone\n",
            "  Created wheel for html2text: filename=html2text-2024.2.26-py3-none-any.whl size=33111 sha256=8b6e3367d73dc8a15794db748421cf18921d75b0f3bd50125f2c3df4682baa38\n",
            "  Stored in directory: /root/.cache/pip/wheels/f3/96/6d/a7eba8f80d31cbd188a2787b81514d82fc5ae6943c44777659\n",
            "Successfully built html2text\n",
            "Installing collected packages: requests, python-dotenv, pyee, html2text, greenlet, aiosqlite, tiktoken, playwright, playwright-stealth, litellm, crawl4ai\n",
            "  Attempting uninstall: requests\n",
            "    Found existing installation: requests 2.32.3\n",
            "    Uninstalling requests-2.32.3:\n",
            "      Successfully uninstalled requests-2.32.3\n",
            "  Attempting uninstall: greenlet\n",
            "    Found existing installation: greenlet 3.1.1\n",
            "    Uninstalling greenlet-3.1.1:\n",
            "      Successfully uninstalled greenlet-3.1.1\n",
            "\u001b[31mERROR: pip's dependency resolver does not currently take into account all the packages that are installed. This behaviour is the source of the following dependency conflicts.\n",
            "google-colab 1.0.0 requires requests==2.32.3, but you have requests 2.32.2 which is incompatible.\u001b[0m\u001b[31m\n",
            "\u001b[0mSuccessfully installed aiosqlite-0.20.0 crawl4ai-0.3.72 greenlet-3.0.3 html2text-2024.2.26 litellm-1.48.0 playwright-1.47.0 playwright-stealth-1.0.6 pyee-12.0.0 python-dotenv-1.0.1 requests-2.32.2 tiktoken-0.8.0\n",
            "Requirement already satisfied: nest-asyncio in /usr/local/lib/python3.10/dist-packages (1.6.0)\n",
            "Downloading Chromium 129.0.6668.29 (playwright build v1134)\u001b[2m from https://playwright.azureedge.net/builds/chromium/1134/chromium-linux.zip\u001b[22m\n",
            "\u001b[1G164 MiB [] 0% 0.0s\u001b[0K\u001b[1G164 MiB [] 0% 4.8s\u001b[0K\u001b[1G164 MiB [] 0% 8.5s\u001b[0K\u001b[1G164 MiB [] 0% 6.7s\u001b[0K\u001b[1G164 MiB [] 1% 5.6s\u001b[0K\u001b[1G164 MiB [] 1% 4.8s\u001b[0K\u001b[1G164 MiB [] 2% 4.3s\u001b[0K\u001b[1G164 MiB [] 2% 4.2s\u001b[0K\u001b[1G164 MiB [] 3% 4.0s\u001b[0K\u001b[1G164 MiB [] 3% 4.1s\u001b[0K\u001b[1G164 MiB [] 4% 4.0s\u001b[0K\u001b[1G164 MiB [] 5% 3.6s\u001b[0K\u001b[1G164 MiB [] 5% 3.4s\u001b[0K\u001b[1G164 MiB [] 6% 3.2s\u001b[0K\u001b[1G164 MiB [] 7% 3.1s\u001b[0K\u001b[1G164 MiB [] 7% 2.9s\u001b[0K\u001b[1G164 MiB [] 8% 2.8s\u001b[0K\u001b[1G164 MiB [] 9% 2.8s\u001b[0K\u001b[1G164 MiB [] 10% 2.6s\u001b[0K\u001b[1G164 MiB [] 11% 2.6s\u001b[0K\u001b[1G164 MiB [] 12% 2.5s\u001b[0K\u001b[1G164 MiB [] 13% 2.5s\u001b[0K\u001b[1G164 MiB [] 13% 2.4s\u001b[0K\u001b[1G164 MiB [] 14% 2.6s\u001b[0K\u001b[1G164 MiB [] 16% 2.2s\u001b[0K\u001b[1G164 MiB [] 17% 2.1s\u001b[0K\u001b[1G164 MiB [] 18% 2.0s\u001b[0K\u001b[1G164 MiB [] 19% 2.0s\u001b[0K\u001b[1G164 MiB [] 20% 2.0s\u001b[0K\u001b[1G164 MiB [] 21% 2.0s\u001b[0K\u001b[1G164 MiB [] 21% 1.9s\u001b[0K\u001b[1G164 MiB [] 22% 1.9s\u001b[0K\u001b[1G164 MiB [] 23% 1.9s\u001b[0K\u001b[1G164 MiB [] 24% 1.9s\u001b[0K\u001b[1G164 MiB [] 25% 1.9s\u001b[0K\u001b[1G164 MiB [] 25% 1.8s\u001b[0K\u001b[1G164 MiB [] 26% 1.8s\u001b[0K\u001b[1G164 MiB [] 27% 1.8s\u001b[0K\u001b[1G164 MiB [] 28% 1.8s\u001b[0K\u001b[1G164 MiB [] 28% 1.7s\u001b[0K\u001b[1G164 MiB [] 29% 1.7s\u001b[0K\u001b[1G164 MiB [] 30% 1.7s\u001b[0K\u001b[1G164 MiB [] 31% 1.6s\u001b[0K\u001b[1G164 MiB [] 32% 1.6s\u001b[0K\u001b[1G164 MiB [] 33% 1.5s\u001b[0K\u001b[1G164 MiB [] 35% 1.5s\u001b[0K\u001b[1G164 MiB [] 37% 1.4s\u001b[0K\u001b[1G164 MiB [] 38% 1.4s\u001b[0K\u001b[1G164 MiB [] 39% 1.3s\u001b[0K\u001b[1G164 MiB [] 40% 1.3s\u001b[0K\u001b[1G164 MiB [] 42% 1.2s\u001b[0K\u001b[1G164 MiB [] 43% 1.2s\u001b[0K\u001b[1G164 MiB [] 44% 1.2s\u001b[0K\u001b[1G164 MiB [] 45% 1.1s\u001b[0K\u001b[1G164 MiB [] 47% 1.1s\u001b[0K\u001b[1G164 MiB [] 48% 1.0s\u001b[0K\u001b[1G164 MiB [] 49% 1.0s\u001b[0K\u001b[1G164 MiB [] 50% 1.0s\u001b[0K\u001b[1G164 MiB [] 51% 1.0s\u001b[0K\u001b[1G164 MiB [] 53% 0.9s\u001b[0K\u001b[1G164 MiB [] 54% 0.9s\u001b[0K\u001b[1G164 MiB [] 55% 0.9s\u001b[0K\u001b[1G164 MiB [] 56% 0.9s\u001b[0K\u001b[1G164 MiB [] 57% 0.8s\u001b[0K\u001b[1G164 MiB [] 58% 0.8s\u001b[0K\u001b[1G164 MiB [] 59% 0.8s\u001b[0K\u001b[1G164 MiB [] 60% 0.8s\u001b[0K\u001b[1G164 MiB [] 61% 0.7s\u001b[0K\u001b[1G164 MiB [] 62% 0.7s\u001b[0K\u001b[1G164 MiB [] 64% 0.7s\u001b[0K\u001b[1G164 MiB [] 65% 0.6s\u001b[0K\u001b[1G164 MiB [] 66% 0.6s\u001b[0K\u001b[1G164 MiB [] 67% 0.6s\u001b[0K\u001b[1G164 MiB [] 68% 0.6s\u001b[0K\u001b[1G164 MiB [] 69% 0.6s\u001b[0K\u001b[1G164 MiB [] 70% 0.6s\u001b[0K\u001b[1G164 MiB [] 71% 0.5s\u001b[0K\u001b[1G164 MiB [] 72% 0.5s\u001b[0K\u001b[1G164 MiB [] 73% 0.5s\u001b[0K\u001b[1G164 MiB [] 74% 0.5s\u001b[0K\u001b[1G164 MiB [] 75% 0.5s\u001b[0K\u001b[1G164 MiB [] 76% 0.5s\u001b[0K\u001b[1G164 MiB [] 77% 0.4s\u001b[0K\u001b[1G164 MiB [] 78% 0.4s\u001b[0K\u001b[1G164 MiB [] 79% 0.4s\u001b[0K\u001b[1G164 MiB [] 80% 0.4s\u001b[0K\u001b[1G164 MiB [] 81% 0.4s\u001b[0K\u001b[1G164 MiB [] 82% 0.4s\u001b[0K\u001b[1G164 MiB [] 83% 0.3s\u001b[0K\u001b[1G164 MiB [] 84% 0.3s\u001b[0K\u001b[1G164 MiB [] 85% 0.3s\u001b[0K\u001b[1G164 MiB [] 86% 0.3s\u001b[0K\u001b[1G164 MiB [] 87% 0.2s\u001b[0K\u001b[1G164 MiB [] 88% 0.2s\u001b[0K\u001b[1G164 MiB [] 89% 0.2s\u001b[0K\u001b[1G164 MiB [] 91% 0.2s\u001b[0K\u001b[1G164 MiB [] 92% 0.2s\u001b[0K\u001b[1G164 MiB [] 93% 0.1s\u001b[0K\u001b[1G164 MiB [] 94% 0.1s\u001b[0K\u001b[1G164 MiB [] 95% 0.1s\u001b[0K\u001b[1G164 MiB [] 96% 0.1s\u001b[0K\u001b[1G164 MiB [] 98% 0.0s\u001b[0K\u001b[1G164 MiB [] 99% 0.0s\u001b[0K\u001b[1G164 MiB [] 100% 0.0s\u001b[0K\n",
            "Chromium 129.0.6668.29 (playwright build v1134) downloaded to /root/.cache/ms-playwright/chromium-1134\n",
            "Downloading FFMPEG playwright build v1010\u001b[2m from https://playwright.azureedge.net/builds/ffmpeg/1010/ffmpeg-linux.zip\u001b[22m\n",
            "\u001b[1G2.3 MiB [] 0% 0.0s\u001b[0K\u001b[1G2.3 MiB [] 15% 0.1s\u001b[0K\u001b[1G2.3 MiB [] 37% 0.1s\u001b[0K\u001b[1G2.3 MiB [] 63% 0.0s\u001b[0K\u001b[1G2.3 MiB [] 93% 0.0s\u001b[0K\u001b[1G2.3 MiB [] 100% 0.0s\u001b[0K\n",
            "FFMPEG playwright build v1010 downloaded to /root/.cache/ms-playwright/ffmpeg-1010\n",
            "Downloading Firefox 130.0 (playwright build v1463)\u001b[2m from https://playwright.azureedge.net/builds/firefox/1463/firefox-ubuntu-22.04.zip\u001b[22m\n",
            "\u001b[1G86.4 MiB [] 0% 0.0s\u001b[0K\u001b[1G86.4 MiB [] 0% 3.7s\u001b[0K\u001b[1G86.4 MiB [] 1% 2.9s\u001b[0K\u001b[1G86.4 MiB [] 2% 2.0s\u001b[0K\u001b[1G86.4 MiB [] 3% 1.8s\u001b[0K\u001b[1G86.4 MiB [] 4% 1.7s\u001b[0K\u001b[1G86.4 MiB [] 5% 1.7s\u001b[0K\u001b[1G86.4 MiB [] 6% 1.6s\u001b[0K\u001b[1G86.4 MiB [] 7% 1.7s\u001b[0K\u001b[1G86.4 MiB [] 8% 1.6s\u001b[0K\u001b[1G86.4 MiB [] 9% 13.0s\u001b[0K\u001b[1G86.4 MiB [] 9% 12.4s\u001b[0K\u001b[1G86.4 MiB [] 11% 10.6s\u001b[0K\u001b[1G86.4 MiB [] 12% 9.6s\u001b[0K\u001b[1G86.4 MiB [] 13% 8.9s\u001b[0K\u001b[1G86.4 MiB [] 15% 7.8s\u001b[0K\u001b[1G86.4 MiB [] 17% 6.9s\u001b[0K\u001b[1G86.4 MiB [] 17% 6.6s\u001b[0K\u001b[1G86.4 MiB [] 18% 11.8s\u001b[0K\u001b[1G86.4 MiB [] 18% 11.6s\u001b[0K\u001b[1G86.4 MiB [] 19% 10.9s\u001b[0K\u001b[1G86.4 MiB [] 21% 10.2s\u001b[0K\u001b[1G86.4 MiB [] 22% 9.6s\u001b[0K\u001b[1G86.4 MiB [] 24% 8.7s\u001b[0K\u001b[1G86.4 MiB [] 25% 8.0s\u001b[0K\u001b[1G86.4 MiB [] 27% 10.4s\u001b[0K\u001b[1G86.4 MiB [] 28% 10.2s\u001b[0K\u001b[1G86.4 MiB [] 29% 9.6s\u001b[0K\u001b[1G86.4 MiB [] 30% 9.1s\u001b[0K\u001b[1G86.4 MiB [] 32% 8.4s\u001b[0K\u001b[1G86.4 MiB [] 35% 7.6s\u001b[0K\u001b[1G86.4 MiB [] 37% 9.1s\u001b[0K\u001b[1G86.4 MiB [] 37% 9.3s\u001b[0K\u001b[1G86.4 MiB [] 38% 8.8s\u001b[0K\u001b[1G86.4 MiB [] 39% 8.6s\u001b[0K\u001b[1G86.4 MiB [] 40% 8.2s\u001b[0K\u001b[1G86.4 MiB [] 41% 7.7s\u001b[0K\u001b[1G86.4 MiB [] 43% 7.1s\u001b[0K\u001b[1G86.4 MiB [] 46% 6.6s\u001b[0K\u001b[1G86.4 MiB [] 46% 8.0s\u001b[0K\u001b[1G86.4 MiB [] 46% 7.9s\u001b[0K\u001b[1G86.4 MiB [] 47% 7.6s\u001b[0K\u001b[1G86.4 MiB [] 49% 7.1s\u001b[0K\u001b[1G86.4 MiB [] 51% 6.6s\u001b[0K\u001b[1G86.4 MiB [] 53% 6.0s\u001b[0K\u001b[1G86.4 MiB [] 55% 5.5s\u001b[0K\u001b[1G86.4 MiB [] 57% 5.2s\u001b[0K\u001b[1G86.4 MiB [] 59% 4.8s\u001b[0K\u001b[1G86.4 MiB [] 61% 4.4s\u001b[0K\u001b[1G86.4 MiB [] 63% 4.1s\u001b[0K\u001b[1G86.4 MiB [] 65% 3.7s\u001b[0K\u001b[1G86.4 MiB [] 68% 3.3s\u001b[0K\u001b[1G86.4 MiB [] 70% 3.0s\u001b[0K\u001b[1G86.4 MiB [] 71% 2.9s\u001b[0K\u001b[1G86.4 MiB [] 73% 2.6s\u001b[0K\u001b[1G86.4 MiB [] 74% 4.1s\u001b[0K\u001b[1G86.4 MiB [] 74% 4.0s\u001b[0K\u001b[1G86.4 MiB [] 74% 3.9s\u001b[0K\u001b[1G86.4 MiB [] 75% 3.7s\u001b[0K\u001b[1G86.4 MiB [] 76% 3.6s\u001b[0K\u001b[1G86.4 MiB [] 76% 3.5s\u001b[0K\u001b[1G86.4 MiB [] 77% 3.3s\u001b[0K\u001b[1G86.4 MiB [] 78% 3.2s\u001b[0K\u001b[1G86.4 MiB [] 79% 3.0s\u001b[0K\u001b[1G86.4 MiB [] 80% 2.8s\u001b[0K\u001b[1G86.4 MiB [] 82% 2.6s\u001b[0K\u001b[1G86.4 MiB [] 83% 2.4s\u001b[0K\u001b[1G86.4 MiB [] 84% 2.2s\u001b[0K\u001b[1G86.4 MiB [] 85% 2.0s\u001b[0K\u001b[1G86.4 MiB [] 86% 1.8s\u001b[0K\u001b[1G86.4 MiB [] 88% 1.5s\u001b[0K\u001b[1G86.4 MiB [] 91% 1.1s\u001b[0K\u001b[1G86.4 MiB [] 92% 1.1s\u001b[0K\u001b[1G86.4 MiB [] 92% 1.0s\u001b[0K\u001b[1G86.4 MiB [] 94% 0.8s\u001b[0K\u001b[1G86.4 MiB [] 96% 0.5s\u001b[0K\u001b[1G86.4 MiB [] 98% 0.2s\u001b[0K\u001b[1G86.4 MiB [] 100% 0.0s\u001b[0K\n",
            "Firefox 130.0 (playwright build v1463) downloaded to /root/.cache/ms-playwright/firefox-1463\n",
            "Downloading Webkit 18.0 (playwright build v2070)\u001b[2m from https://playwright.azureedge.net/builds/webkit/2070/webkit-ubuntu-22.04.zip\u001b[22m\n",
            "\u001b[1G88.2 MiB [] 0% 0.0s\u001b[0K\u001b[1G88.2 MiB [] 0% 5.6s\u001b[0K\u001b[1G88.2 MiB [] 0% 4.5s\u001b[0K\u001b[1G88.2 MiB [] 1% 4.3s\u001b[0K\u001b[1G88.2 MiB [] 1% 3.2s\u001b[0K\u001b[1G88.2 MiB [] 3% 2.5s\u001b[0K\u001b[1G88.2 MiB [] 4% 2.1s\u001b[0K\u001b[1G88.2 MiB [] 6% 2.0s\u001b[0K\u001b[1G88.2 MiB [] 7% 1.9s\u001b[0K\u001b[1G88.2 MiB [] 8% 1.8s\u001b[0K\u001b[1G88.2 MiB [] 9% 45.4s\u001b[0K\u001b[1G88.2 MiB [] 9% 43.4s\u001b[0K\u001b[1G88.2 MiB [] 10% 38.7s\u001b[0K\u001b[1G88.2 MiB [] 11% 35.1s\u001b[0K\u001b[1G88.2 MiB [] 12% 31.8s\u001b[0K\u001b[1G88.2 MiB [] 13% 29.4s\u001b[0K\u001b[1G88.2 MiB [] 14% 27.9s\u001b[0K\u001b[1G88.2 MiB [] 15% 25.7s\u001b[0K\u001b[1G88.2 MiB [] 16% 23.8s\u001b[0K\u001b[1G88.2 MiB [] 17% 22.6s\u001b[0K\u001b[1G88.2 MiB [] 18% 26.3s\u001b[0K\u001b[1G88.2 MiB [] 18% 25.1s\u001b[0K\u001b[1G88.2 MiB [] 20% 23.0s\u001b[0K\u001b[1G88.2 MiB [] 21% 21.3s\u001b[0K\u001b[1G88.2 MiB [] 23% 19.6s\u001b[0K\u001b[1G88.2 MiB [] 24% 18.5s\u001b[0K\u001b[1G88.2 MiB [] 25% 17.1s\u001b[0K\u001b[1G88.2 MiB [] 27% 15.8s\u001b[0K\u001b[1G88.2 MiB [] 28% 14.8s\u001b[0K\u001b[1G88.2 MiB [] 32% 12.4s\u001b[0K\u001b[1G88.2 MiB [] 34% 11.2s\u001b[0K\u001b[1G88.2 MiB [] 36% 10.5s\u001b[0K\u001b[1G88.2 MiB [] 37% 10.0s\u001b[0K\u001b[1G88.2 MiB [] 38% 9.6s\u001b[0K\u001b[1G88.2 MiB [] 39% 9.2s\u001b[0K\u001b[1G88.2 MiB [] 41% 8.6s\u001b[0K\u001b[1G88.2 MiB [] 43% 8.0s\u001b[0K\u001b[1G88.2 MiB [] 45% 8.8s\u001b[0K\u001b[1G88.2 MiB [] 46% 8.5s\u001b[0K\u001b[1G88.2 MiB [] 47% 8.0s\u001b[0K\u001b[1G88.2 MiB [] 50% 7.3s\u001b[0K\u001b[1G88.2 MiB [] 52% 6.8s\u001b[0K\u001b[1G88.2 MiB [] 53% 6.4s\u001b[0K\u001b[1G88.2 MiB [] 56% 5.8s\u001b[0K\u001b[1G88.2 MiB [] 57% 5.4s\u001b[0K\u001b[1G88.2 MiB [] 59% 5.0s\u001b[0K\u001b[1G88.2 MiB [] 62% 4.6s\u001b[0K\u001b[1G88.2 MiB [] 63% 5.0s\u001b[0K\u001b[1G88.2 MiB [] 64% 4.9s\u001b[0K\u001b[1G88.2 MiB [] 65% 4.5s\u001b[0K\u001b[1G88.2 MiB [] 68% 4.1s\u001b[0K\u001b[1G88.2 MiB [] 70% 3.7s\u001b[0K\u001b[1G88.2 MiB [] 72% 3.8s\u001b[0K\u001b[1G88.2 MiB [] 73% 3.7s\u001b[0K\u001b[1G88.2 MiB [] 75% 3.3s\u001b[0K\u001b[1G88.2 MiB [] 77% 3.0s\u001b[0K\u001b[1G88.2 MiB [] 79% 2.6s\u001b[0K\u001b[1G88.2 MiB [] 81% 2.3s\u001b[0K\u001b[1G88.2 MiB [] 83% 2.1s\u001b[0K\u001b[1G88.2 MiB [] 84% 1.9s\u001b[0K\u001b[1G88.2 MiB [] 85% 1.7s\u001b[0K\u001b[1G88.2 MiB [] 87% 1.5s\u001b[0K\u001b[1G88.2 MiB [] 89% 1.2s\u001b[0K\u001b[1G88.2 MiB [] 90% 1.2s\u001b[0K\u001b[1G88.2 MiB [] 91% 1.0s\u001b[0K\u001b[1G88.2 MiB [] 93% 0.7s\u001b[0K\u001b[1G88.2 MiB [] 96% 0.5s\u001b[0K\u001b[1G88.2 MiB [] 98% 0.2s\u001b[0K\u001b[1G88.2 MiB [] 99% 0.0s\u001b[0K\u001b[1G88.2 MiB [] 100% 0.0s\u001b[0K\n",
            "Webkit 18.0 (playwright build v2070) downloaded to /root/.cache/ms-playwright/webkit-2070\n",
            "Playwright Host validation warning: \n",
            "╔══════════════════════════════════════════════════════╗\n",
            "║ Host system is missing dependencies to run browsers. ║\n",
            "║ Missing libraries:                                   ║\n",
            "║     libwoff2dec.so.1.0.2                             ║\n",
            "║     libgstgl-1.0.so.0                                ║\n",
            "║     libgstcodecparsers-1.0.so.0                      ║\n",
            "║     libharfbuzz-icu.so.0                             ║\n",
            "║     libenchant-2.so.2                                ║\n",
            "║     libsecret-1.so.0                                 ║\n",
            "║     libhyphen.so.0                                   ║\n",
            "║     libmanette-0.2.so.0                              ║\n",
            "╚══════════════════════════════════════════════════════╝\n",
            "    at validateDependenciesLinux (/usr/local/lib/python3.10/dist-packages/playwright/driver/package/lib/server/registry/dependencies.js:216:9)\n",
            "    at async Registry._validateHostRequirements (/usr/local/lib/python3.10/dist-packages/playwright/driver/package/lib/server/registry/index.js:626:43)\n",
            "    at async Registry._validateHostRequirementsForExecutableIfNeeded (/usr/local/lib/python3.10/dist-packages/playwright/driver/package/lib/server/registry/index.js:724:7)\n",
            "    at async Registry.validateHostRequirementsForExecutablesIfNeeded (/usr/local/lib/python3.10/dist-packages/playwright/driver/package/lib/server/registry/index.js:713:43)\n",
            "    at async t.<anonymous> (/usr/local/lib/python3.10/dist-packages/playwright/driver/package/lib/cli/program.js:119:7)\n"
          ]
        }
      ]
    },
    {
      "cell_type": "code",
      "source": [
        "import asyncio\n",
        "import nest_asyncio\n",
        "from crawl4ai import AsyncWebCrawler\n",
        "from crawl4ai.extraction_strategy import JsonCssExtractionStrategy, LLMExtractionStrategy\n",
        "import json\n",
        "import time\n",
        "from pydantic import BaseModel, Field\n",
        "\n",
        "nest_asyncio.apply()"
      ],
      "metadata": {
        "colab": {
          "base_uri": "https://localhost:8080/"
        },
        "id": "3VizypJK6J-i",
        "outputId": "74c0be6d-3234-457e-dee7-1fc034857427"
      },
      "execution_count": 3,
      "outputs": [
        {
          "output_type": "stream",
          "name": "stdout",
          "text": [
            "Warning: Synchronous WebCrawler is not available. Install crawl4ai[sync] for synchronous support. However, please note that the synchronous version will be deprecated soon.\n"
          ]
        }
      ]
    },
    {
      "cell_type": "code",
      "source": [
        "import os; os.environ['OPENAI_API_KEY'] = 'sk-proj-xxxx'"
      ],
      "metadata": {
        "id": "6SvtaGCp6WyH"
      },
      "execution_count": null,
      "outputs": []
    },
    {
      "cell_type": "code",
      "source": [
        "import os\n",
        "from google.colab import userdata\n",
        "class OpenAIModelFee(BaseModel):\n",
        "    player_name: str = Field(..., description=\"Name of the player\")\n",
        "    elo_score: str = Field(..., description=\"Elo Score of the player\")\n",
        "    games_number: str = Field(..., description=\"Number of games of the player\")\n",
        "\n",
        "async def extract_openai_fees():\n",
        "    async with AsyncWebCrawler(verbose=True) as crawler:\n",
        "        result = await crawler.arun(\n",
        "            url='https://lichess.org/broadcast/fide-world-youth-chess-championships-2024--o18/round-1/0SPgwmAM#players',\n",
        "            word_count_threshold=1,\n",
        "            extraction_strategy=LLMExtractionStrategy(\n",
        "                provider=\"openai/gpt-4o-mini-2024-07-18\", api_token=os.getenv('OPENAI_API_KEY'),\n",
        "                schema=OpenAIModelFee.schema(),\n",
        "                extraction_type=\"schema\",\n",
        "                instruction=\"\"\"From the crawled content, extract all mentioned player names along with their scores and games.\n",
        "                Do not miss any models in the entire content. One extracted model JSON format should look like this:\n",
        "                {\"player_name\": \"Abdul M\", \"elo_score\": \"1400\", \"games_number\": \"0\"}.\"\"\"\n",
        "            ),\n",
        "            bypass_cache=True,\n",
        "        )\n",
        "        print((result.extracted_content))\n",
        "\n",
        "# Uncomment the following line to run the OpenAI extraction example\n",
        "await extract_openai_fees()"
      ],
      "metadata": {
        "colab": {
          "base_uri": "https://localhost:8080/"
        },
        "id": "Z49pPNht6MSP",
        "outputId": "6fb2c714-442b-4e2c-9634-d1e8c70c5264"
      },
      "execution_count": null,
      "outputs": [
        {
          "output_type": "stream",
          "name": "stdout",
          "text": [
            "[LOG] 🌤️  Warming up the AsyncWebCrawler\n",
            "[LOG] 🌞 AsyncWebCrawler is ready to crawl\n",
            "[LOG] 🕸️ Crawling https://lichess.org/broadcast/fide-world-youth-chess-championships-2024--o18/round-1/0SPgwmAM#players using AsyncPlaywrightCrawlerStrategy...\n",
            "[LOG] ✅ Crawled https://lichess.org/broadcast/fide-world-youth-chess-championships-2024--o18/round-1/0SPgwmAM#players successfully!\n",
            "[LOG] 🚀 Crawling done for https://lichess.org/broadcast/fide-world-youth-chess-championships-2024--o18/round-1/0SPgwmAM#players, success: True, time taken: 2.82 seconds\n",
            "[LOG] 🚀 Content extracted for https://lichess.org/broadcast/fide-world-youth-chess-championships-2024--o18/round-1/0SPgwmAM#players, success: True, time taken: 0.16 seconds\n",
            "[LOG] 🔥 Extracting semantic blocks for https://lichess.org/broadcast/fide-world-youth-chess-championships-2024--o18/round-1/0SPgwmAM#players, Strategy: AsyncWebCrawler\n",
            "[LOG] Call LLM for https://lichess.org/broadcast/fide-world-youth-chess-championships-2024--o18/round-1/0SPgwmAM#players - block index: 0\n",
            "[LOG] Extracted 8 blocks from URL: https://lichess.org/broadcast/fide-world-youth-chess-championships-2024--o18/round-1/0SPgwmAM#players block index: 0\n",
            "[LOG] 🚀 Extraction done for https://lichess.org/broadcast/fide-world-youth-chess-championships-2024--o18/round-1/0SPgwmAM#players, time taken: 3.12 seconds.\n",
            "[\n",
            "    {\n",
            "        \"player_name\": \"GM Grebnev, Aleksey\",\n",
            "        \"elo_score\": \"2530\",\n",
            "        \"games_number\": \"0\",\n",
            "        \"error\": false\n",
            "    },\n",
            "    {\n",
            "        \"player_name\": \"IM Seemann, Jakub\",\n",
            "        \"elo_score\": \"2489\",\n",
            "        \"games_number\": \"0\",\n",
            "        \"error\": false\n",
            "    },\n",
            "    {\n",
            "        \"player_name\": \"IM Droin, Augustin\",\n",
            "        \"elo_score\": \"2482\",\n",
            "        \"games_number\": \"0\",\n",
            "        \"error\": false\n",
            "    },\n",
            "    {\n",
            "        \"player_name\": \"IM Macias Pino, Diego\",\n",
            "        \"elo_score\": \"2479\",\n",
            "        \"games_number\": \"0\",\n",
            "        \"error\": false\n",
            "    },\n",
            "    {\n",
            "        \"player_name\": \"CM Adam, Rafael\",\n",
            "        \"elo_score\": \"2175\",\n",
            "        \"games_number\": \"0\",\n",
            "        \"error\": false\n",
            "    },\n",
            "    {\n",
            "        \"player_name\": \"FM Amigo Quintana, Antu\",\n",
            "        \"elo_score\": \"2171\",\n",
            "        \"games_number\": \"0\",\n",
            "        \"error\": false\n",
            "    },\n",
            "    {\n",
            "        \"player_name\": \"Adamovics, Aleksejs\",\n",
            "        \"elo_score\": \"2169\",\n",
            "        \"games_number\": \"0\",\n",
            "        \"error\": false\n",
            "    },\n",
            "    {\n",
            "        \"player_name\": \"CM Bolanos Lopez, Juan Jacobo\",\n",
            "        \"elo_score\": \"2165\",\n",
            "        \"games_number\": \"0\",\n",
            "        \"error\": false\n",
            "    }\n",
            "]\n"
          ]
        },
        {
          "output_type": "stream",
          "name": "stderr",
          "text": [
            "/usr/local/lib/python3.10/dist-packages/pydantic/main.py:390: UserWarning: Pydantic serializer warnings:\n",
            "  Expected `PromptTokensDetails` but got `dict` with value `{'audio_tokens': None, 'cached_tokens': 0}` - serialized value may not be as expected\n",
            "  return self.__pydantic_serializer__.to_python(\n"
          ]
        }
      ]
    },
    {
      "cell_type": "code",
      "source": [],
      "metadata": {
        "id": "bzVvGqnU61X0"
      },
      "execution_count": null,
      "outputs": []
    }
  ]
}